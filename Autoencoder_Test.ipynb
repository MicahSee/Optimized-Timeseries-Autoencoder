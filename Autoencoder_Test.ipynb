{
  "nbformat": 4,
  "nbformat_minor": 0,
  "metadata": {
    "colab": {
      "provenance": [],
      "gpuType": "T4",
      "authorship_tag": "ABX9TyNbVWAmkKyBKIu3Pxoik6+F",
      "include_colab_link": true
    },
    "kernelspec": {
      "name": "python3",
      "display_name": "Python 3"
    },
    "language_info": {
      "name": "python"
    },
    "accelerator": "GPU"
  },
  "cells": [
    {
      "cell_type": "markdown",
      "metadata": {
        "id": "view-in-github",
        "colab_type": "text"
      },
      "source": [
        "<a href=\"https://colab.research.google.com/github/MicahSee/Optimized-Timeseries-Autoencoder/blob/main/Autoencoder_Test.ipynb\" target=\"_parent\"><img src=\"https://colab.research.google.com/assets/colab-badge.svg\" alt=\"Open In Colab\"/></a>"
      ]
    },
    {
      "cell_type": "code",
      "source": [
        "import torch\n",
        "from rae import LSTM_AE\n",
        "import numpy as np\n",
        "from torch.utils.data import DataLoader, TensorDataset\n",
        "import tempfile"
      ],
      "metadata": {
        "colab": {
          "base_uri": "https://localhost:8080/",
          "height": 393
        },
        "id": "M5MUcFnYTf0M",
        "outputId": "86cb1d5f-f4a8-4520-f8d4-c9ff9c441018"
      },
      "execution_count": 1,
      "outputs": [
        {
          "output_type": "error",
          "ename": "ModuleNotFoundError",
          "evalue": "No module named 'rae'",
          "traceback": [
            "\u001b[0;31m---------------------------------------------------------------------------\u001b[0m",
            "\u001b[0;31mModuleNotFoundError\u001b[0m                       Traceback (most recent call last)",
            "\u001b[0;32m<ipython-input-1-3176427212bb>\u001b[0m in \u001b[0;36m<cell line: 2>\u001b[0;34m()\u001b[0m\n\u001b[1;32m      1\u001b[0m \u001b[0;32mimport\u001b[0m \u001b[0mtorch\u001b[0m\u001b[0;34m\u001b[0m\u001b[0;34m\u001b[0m\u001b[0m\n\u001b[0;32m----> 2\u001b[0;31m \u001b[0;32mfrom\u001b[0m \u001b[0mrae\u001b[0m \u001b[0;32mimport\u001b[0m \u001b[0mLSTM_AE\u001b[0m\u001b[0;34m\u001b[0m\u001b[0;34m\u001b[0m\u001b[0m\n\u001b[0m\u001b[1;32m      3\u001b[0m \u001b[0;32mimport\u001b[0m \u001b[0mnumpy\u001b[0m \u001b[0;32mas\u001b[0m \u001b[0mnp\u001b[0m\u001b[0;34m\u001b[0m\u001b[0;34m\u001b[0m\u001b[0m\n\u001b[1;32m      4\u001b[0m \u001b[0;32mfrom\u001b[0m \u001b[0mtorch\u001b[0m\u001b[0;34m.\u001b[0m\u001b[0mutils\u001b[0m\u001b[0;34m.\u001b[0m\u001b[0mdata\u001b[0m \u001b[0;32mimport\u001b[0m \u001b[0mDataLoader\u001b[0m\u001b[0;34m,\u001b[0m \u001b[0mTensorDataset\u001b[0m\u001b[0;34m\u001b[0m\u001b[0;34m\u001b[0m\u001b[0m\n\u001b[1;32m      5\u001b[0m \u001b[0;32mimport\u001b[0m \u001b[0mtempfile\u001b[0m\u001b[0;34m\u001b[0m\u001b[0;34m\u001b[0m\u001b[0m\n",
            "\u001b[0;31mModuleNotFoundError\u001b[0m: No module named 'rae'",
            "",
            "\u001b[0;31m---------------------------------------------------------------------------\u001b[0;32m\nNOTE: If your import is failing due to a missing package, you can\nmanually install dependencies using either !pip or !apt.\n\nTo view examples of installing some common dependencies, click the\n\"Open Examples\" button below.\n\u001b[0;31m---------------------------------------------------------------------------\u001b[0m\n"
          ],
          "errorDetails": {
            "actions": [
              {
                "action": "open_url",
                "actionText": "Open Examples",
                "url": "/notebooks/snippets/importing_libraries.ipynb"
              }
            ]
          }
        }
      ]
    },
    {
      "cell_type": "code",
      "source": [
        "train_arr = np.random.rand(100, 30, 2)"
      ],
      "metadata": {
        "id": "urommQBSWxKw"
      },
      "execution_count": 10,
      "outputs": []
    },
    {
      "cell_type": "code",
      "execution_count": 15,
      "metadata": {
        "id": "hGvblTOGS8HU"
      },
      "outputs": [],
      "source": [
        "from functools import lru_cache\n",
        "def train_model_ray(config):\n",
        "    # allocate hardware\n",
        "    device = \"cpu\"\n",
        "    if torch.cuda.is_available():\n",
        "        device = \"cuda:0\"\n",
        "\n",
        "    # set up training params\n",
        "    epochs = 100\n",
        "    batch_size = 10\n",
        "    max_grad = 0.005\n",
        "    lr = 0.001\n",
        "    embedding_dim = config['embedding_dim']\n",
        "\n",
        "    # set up training data\n",
        "    train_tensor = torch.Tensor(train_arr).to(device)\n",
        "    train_dataset = TensorDataset(train_tensor)\n",
        "    train_loader = DataLoader(train_dataset, batch_size=batch_size, shuffle=False)\n",
        "\n",
        "    # set up model\n",
        "    n_features = train_tensor.shape[2]\n",
        "    seq_len = train_tensor.shape[1]\n",
        "    model = LSTM_AE(seq_len, n_features, embedding_dim, max_grad)\n",
        "    model = model.to(device)\n",
        "    criterion = torch.nn.MSELoss(reduction='mean')\n",
        "    optimizer = torch.optim.Adam(model.parameters(), lr=lr)\n",
        "\n",
        "    for epoch in range(1, epochs+1):\n",
        "        running_loss = 0\n",
        "        model.train()\n",
        "\n",
        "        for batch_idx, (data, target) in enumerate(train_loader, 1):\n",
        "            # zero the parameter gradients\n",
        "            optimizer.zero_grad()\n",
        "\n",
        "            # forward --> backward --> optimize\n",
        "            output = model(data)\n",
        "            loss = criterion(output.flatten(), target.type_as(output))\n",
        "\n",
        "            loss.backward()\n",
        "            optimizer.step()\n",
        "\n",
        "            running_loss += loss.item()\n",
        "\n",
        "        running_loss /= len(train_loader)\n",
        "\n",
        "        # no val loss for now\n",
        "    if epoch % 10 == 0:\n",
        "        print(f\"Epoch: {epoch}, Loss: {running_loss}\")\n",
        "\n",
        "    with tempfile.TemporaryDirectory() as temp_checkpoint_dir:\n",
        "        path = os.path.join(temp_checkpoint_dir, \"checkpoint.pt\")\n",
        "        torch.save(model.state_dict(), path)\n",
        "        checkpoint = Checkpoint.from_directory(temp_checkpoint_dir)\n",
        "        train.report({\"loss\": running_loss}, checkpoint=checkpoint)\n",
        "\n",
        "    return"
      ]
    },
    {
      "cell_type": "code",
      "source": [
        "!pip install ray[tune]"
      ],
      "metadata": {
        "colab": {
          "base_uri": "https://localhost:8080/"
        },
        "id": "sY42QN9XT6k3",
        "outputId": "30fe4fb7-46a0-4b45-fec9-77a21fba7e52"
      },
      "execution_count": 16,
      "outputs": [
        {
          "output_type": "stream",
          "name": "stdout",
          "text": [
            "Requirement already satisfied: ray[tune] in /usr/local/lib/python3.10/dist-packages (2.9.0)\n",
            "Requirement already satisfied: click>=7.0 in /usr/local/lib/python3.10/dist-packages (from ray[tune]) (8.1.7)\n",
            "Requirement already satisfied: filelock in /usr/local/lib/python3.10/dist-packages (from ray[tune]) (3.13.1)\n",
            "Requirement already satisfied: jsonschema in /usr/local/lib/python3.10/dist-packages (from ray[tune]) (4.19.2)\n",
            "Requirement already satisfied: msgpack<2.0.0,>=1.0.0 in /usr/local/lib/python3.10/dist-packages (from ray[tune]) (1.0.7)\n",
            "Requirement already satisfied: packaging in /usr/local/lib/python3.10/dist-packages (from ray[tune]) (23.2)\n",
            "Requirement already satisfied: protobuf!=3.19.5,>=3.15.3 in /usr/local/lib/python3.10/dist-packages (from ray[tune]) (3.20.3)\n",
            "Requirement already satisfied: pyyaml in /usr/local/lib/python3.10/dist-packages (from ray[tune]) (6.0.1)\n",
            "Requirement already satisfied: aiosignal in /usr/local/lib/python3.10/dist-packages (from ray[tune]) (1.3.1)\n",
            "Requirement already satisfied: frozenlist in /usr/local/lib/python3.10/dist-packages (from ray[tune]) (1.4.1)\n",
            "Requirement already satisfied: requests in /usr/local/lib/python3.10/dist-packages (from ray[tune]) (2.31.0)\n",
            "Requirement already satisfied: pandas in /usr/local/lib/python3.10/dist-packages (from ray[tune]) (1.5.3)\n",
            "Requirement already satisfied: tensorboardX>=1.9 in /usr/local/lib/python3.10/dist-packages (from ray[tune]) (2.6.2.2)\n",
            "Requirement already satisfied: pyarrow>=6.0.1 in /usr/local/lib/python3.10/dist-packages (from ray[tune]) (10.0.1)\n",
            "Requirement already satisfied: fsspec in /usr/local/lib/python3.10/dist-packages (from ray[tune]) (2023.6.0)\n",
            "Requirement already satisfied: numpy>=1.16.6 in /usr/local/lib/python3.10/dist-packages (from pyarrow>=6.0.1->ray[tune]) (1.23.5)\n",
            "Requirement already satisfied: attrs>=22.2.0 in /usr/local/lib/python3.10/dist-packages (from jsonschema->ray[tune]) (23.2.0)\n",
            "Requirement already satisfied: jsonschema-specifications>=2023.03.6 in /usr/local/lib/python3.10/dist-packages (from jsonschema->ray[tune]) (2023.12.1)\n",
            "Requirement already satisfied: referencing>=0.28.4 in /usr/local/lib/python3.10/dist-packages (from jsonschema->ray[tune]) (0.32.1)\n",
            "Requirement already satisfied: rpds-py>=0.7.1 in /usr/local/lib/python3.10/dist-packages (from jsonschema->ray[tune]) (0.16.2)\n",
            "Requirement already satisfied: python-dateutil>=2.8.1 in /usr/local/lib/python3.10/dist-packages (from pandas->ray[tune]) (2.8.2)\n",
            "Requirement already satisfied: pytz>=2020.1 in /usr/local/lib/python3.10/dist-packages (from pandas->ray[tune]) (2023.3.post1)\n",
            "Requirement already satisfied: charset-normalizer<4,>=2 in /usr/local/lib/python3.10/dist-packages (from requests->ray[tune]) (3.3.2)\n",
            "Requirement already satisfied: idna<4,>=2.5 in /usr/local/lib/python3.10/dist-packages (from requests->ray[tune]) (3.6)\n",
            "Requirement already satisfied: urllib3<3,>=1.21.1 in /usr/local/lib/python3.10/dist-packages (from requests->ray[tune]) (2.0.7)\n",
            "Requirement already satisfied: certifi>=2017.4.17 in /usr/local/lib/python3.10/dist-packages (from requests->ray[tune]) (2023.11.17)\n",
            "Requirement already satisfied: six>=1.5 in /usr/local/lib/python3.10/dist-packages (from python-dateutil>=2.8.1->pandas->ray[tune]) (1.16.0)\n"
          ]
        }
      ]
    },
    {
      "cell_type": "code",
      "source": [
        "import os\n",
        "import tempfile\n",
        "from ray import tune, train\n",
        "from ray.train import Checkpoint\n",
        "from ray.tune.schedulers import ASHAScheduler"
      ],
      "metadata": {
        "id": "fyV1NbYHT5Jx"
      },
      "execution_count": 17,
      "outputs": []
    },
    {
      "cell_type": "code",
      "source": [
        "num_optim_trials = 1\n",
        "seq_len = 30\n",
        "\n",
        "search_space = {\n",
        "    \"embedding_dim\": tune.grid_search([10, 20, 30, 40, 50, 60]),\n",
        "    #\"max_grad\": tune.grid_search([0.005]),\n",
        "}\n",
        "\n",
        "tuner = tune.Tuner(\n",
        "        tune.with_resources(\n",
        "            tune.with_parameters(train_model_ray),\n",
        "            resources={\"cpu\": 2, \"gpu\": 1}\n",
        "        ),\n",
        "        tune_config=tune.TuneConfig(\n",
        "            metric=\"loss\",\n",
        "            mode=\"min\",\n",
        "            scheduler=ASHAScheduler(),\n",
        "            num_samples=num_optim_trials,\n",
        "        ),\n",
        "        param_space=search_space,\n",
        ")"
      ],
      "metadata": {
        "id": "HC4UyVv3TkqB"
      },
      "execution_count": 26,
      "outputs": []
    },
    {
      "cell_type": "code",
      "source": [
        "results = tuner.fit()"
      ],
      "metadata": {
        "colab": {
          "base_uri": "https://localhost:8080/"
        },
        "id": "WA-4JxQPca4I",
        "outputId": "118c3863-9dbc-4341-9505-59ed35766c0c"
      },
      "execution_count": 27,
      "outputs": [
        {
          "output_type": "stream",
          "name": "stderr",
          "text": [
            "2024-01-18 21:25:45,391\tINFO tune.py:592 -- [output] This will use the new output engine with verbosity 1. To disable the new output and use the legacy output engine, set the environment variable RAY_AIR_NEW_OUTPUT=0. For more information, please see https://github.com/ray-project/ray/issues/36949\n"
          ]
        },
        {
          "output_type": "stream",
          "name": "stdout",
          "text": [
            "+------------------------------------------------------------------------+\n",
            "| Configuration for experiment     train_model_ray_2024-01-18_21-25-43   |\n",
            "+------------------------------------------------------------------------+\n",
            "| Search algorithm                 BasicVariantGenerator                 |\n",
            "| Scheduler                        AsyncHyperBandScheduler               |\n",
            "| Number of trials                 6                                     |\n",
            "+------------------------------------------------------------------------+\n",
            "\n",
            "View detailed results here: /root/ray_results/train_model_ray_2024-01-18_21-25-43\n",
            "To visualize your results with TensorBoard, run: `tensorboard --logdir /root/ray_results/train_model_ray_2024-01-18_21-25-43`\n",
            "\n",
            "Trial status: 6 PENDING\n",
            "Current time: 2024-01-18 21:25:45. Total running time: 0s\n",
            "Logical resource usage: 0/2 CPUs, 0/0 GPUs\n",
            "+----------------------------------------------------------+\n",
            "| Trial name                    status       embedding_dim |\n",
            "+----------------------------------------------------------+\n",
            "| train_model_ray_24112_00000   PENDING                 10 |\n",
            "| train_model_ray_24112_00001   PENDING                 20 |\n",
            "| train_model_ray_24112_00002   PENDING                 30 |\n",
            "| train_model_ray_24112_00003   PENDING                 40 |\n",
            "| train_model_ray_24112_00004   PENDING                 50 |\n",
            "| train_model_ray_24112_00005   PENDING                 60 |\n",
            "+----------------------------------------------------------+\n",
            "\u001b[33m(autoscaler +9m11s)\u001b[0m Error: No available node types can fulfill resource request {'GPU': 1.0, 'CPU': 2.0}. Add suitable node types to this cluster to resolve this issue.\n",
            "Trial status: 6 PENDING\n",
            "Current time: 2024-01-18 21:26:15. Total running time: 30s\n",
            "Logical resource usage: 0/2 CPUs, 0/0 GPUs\n",
            "+----------------------------------------------------------+\n",
            "| Trial name                    status       embedding_dim |\n",
            "+----------------------------------------------------------+\n",
            "| train_model_ray_24112_00000   PENDING                 10 |\n",
            "| train_model_ray_24112_00001   PENDING                 20 |\n",
            "| train_model_ray_24112_00002   PENDING                 30 |\n",
            "| train_model_ray_24112_00003   PENDING                 40 |\n",
            "| train_model_ray_24112_00004   PENDING                 50 |\n",
            "| train_model_ray_24112_00005   PENDING                 60 |\n",
            "+----------------------------------------------------------+\n"
          ]
        },
        {
          "output_type": "stream",
          "name": "stderr",
          "text": [
            "2024-01-18 21:26:21,164\tWARNING tune.py:186 -- Stop signal received (e.g. via SIGINT/Ctrl+C), ending Ray Tune run. This will try to checkpoint the experiment state one last time. Press CTRL+C (or send SIGINT/SIGKILL/SIGTERM) to skip. \n",
            "2024-01-18 21:26:21,180\tWARNING tune.py:1057 -- Experiment has been interrupted, but the most recent state was saved.\n",
            "Resume experiment with: Tuner.restore(path=\"/root/ray_results/train_model_ray_2024-01-18_21-25-43\", trainable=...)\n",
            "2024-01-18 21:26:21,188\tWARNING experiment_analysis.py:193 -- Failed to fetch metrics for 6 trial(s):\n",
            "- train_model_ray_24112_00000: FileNotFoundError('Could not fetch metrics for train_model_ray_24112_00000: both result.json and progress.csv were not found at /root/ray_results/train_model_ray_2024-01-18_21-25-43/train_model_ray_24112_00000_0_embedding_dim=10_2024-01-18_21-25-45')\n",
            "- train_model_ray_24112_00001: FileNotFoundError('Could not fetch metrics for train_model_ray_24112_00001: both result.json and progress.csv were not found at /root/ray_results/train_model_ray_2024-01-18_21-25-43/train_model_ray_24112_00001_1_embedding_dim=20_2024-01-18_21-25-45')\n",
            "- train_model_ray_24112_00002: FileNotFoundError('Could not fetch metrics for train_model_ray_24112_00002: both result.json and progress.csv were not found at /root/ray_results/train_model_ray_2024-01-18_21-25-43/train_model_ray_24112_00002_2_embedding_dim=30_2024-01-18_21-25-45')\n",
            "- train_model_ray_24112_00003: FileNotFoundError('Could not fetch metrics for train_model_ray_24112_00003: both result.json and progress.csv were not found at /root/ray_results/train_model_ray_2024-01-18_21-25-43/train_model_ray_24112_00003_3_embedding_dim=40_2024-01-18_21-25-45')\n",
            "- train_model_ray_24112_00004: FileNotFoundError('Could not fetch metrics for train_model_ray_24112_00004: both result.json and progress.csv were not found at /root/ray_results/train_model_ray_2024-01-18_21-25-43/train_model_ray_24112_00004_4_embedding_dim=50_2024-01-18_21-25-45')\n",
            "- train_model_ray_24112_00005: FileNotFoundError('Could not fetch metrics for train_model_ray_24112_00005: both result.json and progress.csv were not found at /root/ray_results/train_model_ray_2024-01-18_21-25-43/train_model_ray_24112_00005_5_embedding_dim=60_2024-01-18_21-25-45')\n"
          ]
        },
        {
          "output_type": "stream",
          "name": "stdout",
          "text": [
            "Trial status: 6 PENDING\n",
            "Current time: 2024-01-18 21:26:21. Total running time: 35s\n",
            "Logical resource usage: 0/2 CPUs, 0/0 GPUs\n",
            "+----------------------------------------------------------+\n",
            "| Trial name                    status       embedding_dim |\n",
            "+----------------------------------------------------------+\n",
            "| train_model_ray_24112_00000   PENDING                 10 |\n",
            "| train_model_ray_24112_00001   PENDING                 20 |\n",
            "| train_model_ray_24112_00002   PENDING                 30 |\n",
            "| train_model_ray_24112_00003   PENDING                 40 |\n",
            "| train_model_ray_24112_00004   PENDING                 50 |\n",
            "| train_model_ray_24112_00005   PENDING                 60 |\n",
            "+----------------------------------------------------------+\n",
            "\n"
          ]
        }
      ]
    },
    {
      "cell_type": "code",
      "source": [],
      "metadata": {
        "id": "Z7460SrHcbSw"
      },
      "execution_count": null,
      "outputs": []
    }
  ]
}